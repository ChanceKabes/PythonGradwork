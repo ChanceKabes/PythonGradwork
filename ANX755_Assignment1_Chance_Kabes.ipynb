{
 "cells": [
  {
   "cell_type": "code",
   "execution_count": 1,
   "id": "fb3146f2",
   "metadata": {},
   "outputs": [],
   "source": [
    "import pandas as pd\n"
   ]
  },
  {
   "cell_type": "markdown",
   "id": "191bfb57",
   "metadata": {},
   "source": [
    "# Question 1\n",
    "\n"
   ]
  },
  {
   "cell_type": "code",
   "execution_count": 32,
   "id": "bb3162eb",
   "metadata": {},
   "outputs": [
    {
     "data": {
      "text/plain": [
       "array([1, 2, 3, 4, 5], dtype=int64)"
      ]
     },
     "execution_count": 32,
     "metadata": {},
     "output_type": "execute_result"
    }
   ],
   "source": [
    "TestNumbers= [1,2,3,4,4,1,5,2,2]\n",
    "TestSeries = pd.Series(TestNumbers)\n",
    "TestSeries.unique()"
   ]
  },
  {
   "cell_type": "code",
   "execution_count": 33,
   "id": "84a5a828",
   "metadata": {},
   "outputs": [
    {
     "data": {
      "text/plain": [
       "False"
      ]
     },
     "execution_count": 33,
     "metadata": {},
     "output_type": "execute_result"
    }
   ],
   "source": [
    "TestSeries.is_unique"
   ]
  },
  {
   "cell_type": "code",
   "execution_count": 34,
   "id": "be3c4ed4",
   "metadata": {},
   "outputs": [],
   "source": [
    "# Question 1 the unique attribute only returns the unique values of a series. In the example above it took our\n",
    "#test numbers and only returned unqiue values and no duplicates.\n",
    "#if you wanted a boolean value you would use .is_unique attribute"
   ]
  },
  {
   "cell_type": "markdown",
   "id": "8df61400",
   "metadata": {},
   "source": [
    "# Question 2"
   ]
  },
  {
   "cell_type": "code",
   "execution_count": 28,
   "id": "b7e629b8",
   "metadata": {},
   "outputs": [
    {
     "data": {
      "text/plain": [
       "'Cumings, Mrs. John Bradley (Florence Briggs Thayer)'"
      ]
     },
     "execution_count": 28,
     "metadata": {},
     "output_type": "execute_result"
    }
   ],
   "source": [
    "titanicseries = pd.read_csv(\"C:\\\\Users\\\\chanc\\\\Documents\\\\Creighton\\\\Data Wrangling\\\\Titanic.csv\", usecols= ['Name'], squeeze = True)\n",
    "titanicseries[1]\n",
    "#using chain method to extract a value, second method is below"
   ]
  },
  {
   "cell_type": "code",
   "execution_count": 92,
   "id": "ea15c4f9",
   "metadata": {},
   "outputs": [
    {
     "name": "stdout",
     "output_type": "stream",
     "text": [
      "None\n"
     ]
    }
   ],
   "source": [
    "print(titanicseries.get(\"John\"))"
   ]
  },
  {
   "cell_type": "code",
   "execution_count": 41,
   "id": "b32d3944",
   "metadata": {},
   "outputs": [
    {
     "data": {
      "text/plain": [
       "False"
      ]
     },
     "execution_count": 41,
     "metadata": {},
     "output_type": "execute_result"
    }
   ],
   "source": [
    "-1 in titanicseries.index"
   ]
  },
  {
   "cell_type": "code",
   "execution_count": 103,
   "id": "8f6c266e",
   "metadata": {},
   "outputs": [
    {
     "name": "stdout",
     "output_type": "stream",
     "text": [
      "Does not excist\n"
     ]
    }
   ],
   "source": [
    "value = -1\n",
    "\n",
    "if titanicseries.get(value) is None:\n",
    "    print(\"Does not excist\")\n",
    "else: \n",
    "    print(titanicseries.get(value))"
   ]
  },
  {
   "cell_type": "code",
   "execution_count": null,
   "id": "a083fac3",
   "metadata": {},
   "outputs": [],
   "source": [
    "#both examples above show what happens when you try and find a value based on an index that doesnt excist - it returns None or False\n",
    "#writing an if statement allows one to test if the value is found or doesn't excist"
   ]
  },
  {
   "cell_type": "code",
   "execution_count": 59,
   "id": "60a7d987",
   "metadata": {},
   "outputs": [
    {
     "data": {
      "text/plain": [
       "1    Cumings, Mrs. John Bradley (Florence Briggs Th...\n",
       "2                               Heikkinen, Miss. Laina\n",
       "Name: Name, dtype: object"
      ]
     },
     "execution_count": 59,
     "metadata": {},
     "output_type": "execute_result"
    }
   ],
   "source": [
    "#we can extract 2 values by using 2 values in the chain method\n",
    "titanicseries[[1,2]]"
   ]
  },
  {
   "cell_type": "code",
   "execution_count": 104,
   "id": "2147c446",
   "metadata": {},
   "outputs": [
    {
     "name": "stdout",
     "output_type": "stream",
     "text": [
      "True\n",
      "False\n",
      "1    Cumings, Mrs. John Bradley (Florence Briggs Th...\n",
      "2                               Heikkinen, Miss. Laina\n",
      "Name: Name, dtype: object\n",
      "None\n"
     ]
    }
   ],
   "source": [
    "#shows what happens if we try and pull multiple values one being negative\n",
    "print(1 and 2 in titanicseries)\n",
    "print(-1 and -2 in titanicseries)\n",
    "print(titanicseries.get([1,2])) #how we can pull multiple values\n",
    "print(titanicseries.get([-1,2])) # it returns none for this value"
   ]
  },
  {
   "cell_type": "markdown",
   "id": "207ea2a0",
   "metadata": {},
   "source": [
    "# Question 3"
   ]
  },
  {
   "cell_type": "code",
   "execution_count": 131,
   "id": "3d897b15",
   "metadata": {},
   "outputs": [],
   "source": [
    "new_nobel = pd.read_csv(\"C:\\\\Users\\\\chanc\\\\Documents\\\\Creighton\\\\Data Wrangling\\\\nobel.csv\", usecols = [\"Year\", \"Category\", \"Prize\", \"Motivation\", \"Laureate Type\",\n",
    "\"Full Name\", \"Birth Date\", \"Birth Country\", \"Sex\", \"Death Date\"])"
   ]
  },
  {
   "cell_type": "code",
   "execution_count": 132,
   "id": "2961e3fa",
   "metadata": {},
   "outputs": [
    {
     "data": {
      "text/plain": [
       "Individual      939\n",
       "Organization     30\n",
       "Name: Laureate Type, dtype: int64"
      ]
     },
     "execution_count": 132,
     "metadata": {},
     "output_type": "execute_result"
    }
   ],
   "source": [
    "new_nobel[\"Laureate Type\"].value_counts()"
   ]
  },
  {
   "cell_type": "code",
   "execution_count": 133,
   "id": "2b12e633",
   "metadata": {},
   "outputs": [],
   "source": [
    "new_nobel[\"Age\"]=0"
   ]
  },
  {
   "cell_type": "code",
   "execution_count": 175,
   "id": "d372d357",
   "metadata": {},
   "outputs": [],
   "source": [
    "new_nobel = new_nobel.fillna(0)"
   ]
  },
  {
   "cell_type": "code",
   "execution_count": 198,
   "id": "8873fd2c",
   "metadata": {},
   "outputs": [],
   "source": [
    "new_nobel[\"Birth Date\"] = new_nobel[\"Birth Date\"].str.split('-').str[0]\n",
    "new_nobel[\"Birth Date\"] = pd.to_numeric(new_nobel[\"Birth Date\"])"
   ]
  },
  {
   "cell_type": "code",
   "execution_count": 199,
   "id": "3ad408a3",
   "metadata": {},
   "outputs": [],
   "source": [
    "new_nobel[\"Real_Age\"] = (new_nobel[\"Year\"]-new_nobel[\"Birth Date\"])"
   ]
  },
  {
   "cell_type": "code",
   "execution_count": 200,
   "id": "8e5b0a65",
   "metadata": {},
   "outputs": [
    {
     "data": {
      "text/html": [
       "<div>\n",
       "<style scoped>\n",
       "    .dataframe tbody tr th:only-of-type {\n",
       "        vertical-align: middle;\n",
       "    }\n",
       "\n",
       "    .dataframe tbody tr th {\n",
       "        vertical-align: top;\n",
       "    }\n",
       "\n",
       "    .dataframe thead th {\n",
       "        text-align: right;\n",
       "    }\n",
       "</style>\n",
       "<table border=\"1\" class=\"dataframe\">\n",
       "  <thead>\n",
       "    <tr style=\"text-align: right;\">\n",
       "      <th></th>\n",
       "      <th>Year</th>\n",
       "      <th>Category</th>\n",
       "      <th>Prize</th>\n",
       "      <th>Motivation</th>\n",
       "      <th>Laureate Type</th>\n",
       "      <th>Full Name</th>\n",
       "      <th>Birth Date</th>\n",
       "      <th>Birth Country</th>\n",
       "      <th>Sex</th>\n",
       "      <th>Death Date</th>\n",
       "      <th>Age</th>\n",
       "      <th>Real_Age</th>\n",
       "    </tr>\n",
       "  </thead>\n",
       "  <tbody>\n",
       "    <tr>\n",
       "      <th>0</th>\n",
       "      <td>1901</td>\n",
       "      <td>Chemistry</td>\n",
       "      <td>The Nobel Prize in Chemistry 1901</td>\n",
       "      <td>\"in recognition of the extraordinary services ...</td>\n",
       "      <td>Individual</td>\n",
       "      <td>Jacobus Henricus van 't Hoff</td>\n",
       "      <td>1852.0</td>\n",
       "      <td>Netherlands</td>\n",
       "      <td>Male</td>\n",
       "      <td>1911-03-01</td>\n",
       "      <td>0</td>\n",
       "      <td>49.0</td>\n",
       "    </tr>\n",
       "    <tr>\n",
       "      <th>1</th>\n",
       "      <td>1901</td>\n",
       "      <td>Literature</td>\n",
       "      <td>The Nobel Prize in Literature 1901</td>\n",
       "      <td>\"in special recognition of his poetic composit...</td>\n",
       "      <td>Individual</td>\n",
       "      <td>Sully Prudhomme</td>\n",
       "      <td>1839.0</td>\n",
       "      <td>France</td>\n",
       "      <td>Male</td>\n",
       "      <td>1907-09-07</td>\n",
       "      <td>0</td>\n",
       "      <td>62.0</td>\n",
       "    </tr>\n",
       "    <tr>\n",
       "      <th>2</th>\n",
       "      <td>1901</td>\n",
       "      <td>Medicine</td>\n",
       "      <td>The Nobel Prize in Physiology or Medicine 1901</td>\n",
       "      <td>\"for his work on serum therapy, especially its...</td>\n",
       "      <td>Individual</td>\n",
       "      <td>Emil Adolf von Behring</td>\n",
       "      <td>1854.0</td>\n",
       "      <td>Prussia (Poland)</td>\n",
       "      <td>Male</td>\n",
       "      <td>1917-03-31</td>\n",
       "      <td>0</td>\n",
       "      <td>47.0</td>\n",
       "    </tr>\n",
       "    <tr>\n",
       "      <th>3</th>\n",
       "      <td>1901</td>\n",
       "      <td>Peace</td>\n",
       "      <td>The Nobel Peace Prize 1901</td>\n",
       "      <td>0</td>\n",
       "      <td>Individual</td>\n",
       "      <td>Jean Henry Dunant</td>\n",
       "      <td>1828.0</td>\n",
       "      <td>Switzerland</td>\n",
       "      <td>Male</td>\n",
       "      <td>1910-10-30</td>\n",
       "      <td>0</td>\n",
       "      <td>73.0</td>\n",
       "    </tr>\n",
       "    <tr>\n",
       "      <th>4</th>\n",
       "      <td>1901</td>\n",
       "      <td>Peace</td>\n",
       "      <td>The Nobel Peace Prize 1901</td>\n",
       "      <td>0</td>\n",
       "      <td>Individual</td>\n",
       "      <td>Frédéric Passy</td>\n",
       "      <td>1822.0</td>\n",
       "      <td>France</td>\n",
       "      <td>Male</td>\n",
       "      <td>1912-06-12</td>\n",
       "      <td>0</td>\n",
       "      <td>79.0</td>\n",
       "    </tr>\n",
       "    <tr>\n",
       "      <th>...</th>\n",
       "      <td>...</td>\n",
       "      <td>...</td>\n",
       "      <td>...</td>\n",
       "      <td>...</td>\n",
       "      <td>...</td>\n",
       "      <td>...</td>\n",
       "      <td>...</td>\n",
       "      <td>...</td>\n",
       "      <td>...</td>\n",
       "      <td>...</td>\n",
       "      <td>...</td>\n",
       "      <td>...</td>\n",
       "    </tr>\n",
       "    <tr>\n",
       "      <th>964</th>\n",
       "      <td>2016</td>\n",
       "      <td>Medicine</td>\n",
       "      <td>The Nobel Prize in Physiology or Medicine 2016</td>\n",
       "      <td>\"for his discoveries of mechanisms for autophagy\"</td>\n",
       "      <td>Individual</td>\n",
       "      <td>Yoshinori Ohsumi</td>\n",
       "      <td>1945.0</td>\n",
       "      <td>Japan</td>\n",
       "      <td>Male</td>\n",
       "      <td>0</td>\n",
       "      <td>0</td>\n",
       "      <td>71.0</td>\n",
       "    </tr>\n",
       "    <tr>\n",
       "      <th>965</th>\n",
       "      <td>2016</td>\n",
       "      <td>Peace</td>\n",
       "      <td>The Nobel Peace Prize 2016</td>\n",
       "      <td>\"for his resolute efforts to bring the country...</td>\n",
       "      <td>Individual</td>\n",
       "      <td>Juan Manuel Santos</td>\n",
       "      <td>1951.0</td>\n",
       "      <td>Colombia</td>\n",
       "      <td>Male</td>\n",
       "      <td>0</td>\n",
       "      <td>0</td>\n",
       "      <td>65.0</td>\n",
       "    </tr>\n",
       "    <tr>\n",
       "      <th>966</th>\n",
       "      <td>2016</td>\n",
       "      <td>Physics</td>\n",
       "      <td>The Nobel Prize in Physics 2016</td>\n",
       "      <td>\"for theoretical discoveries of topological ph...</td>\n",
       "      <td>Individual</td>\n",
       "      <td>David J. Thouless</td>\n",
       "      <td>1934.0</td>\n",
       "      <td>United Kingdom</td>\n",
       "      <td>Male</td>\n",
       "      <td>0</td>\n",
       "      <td>0</td>\n",
       "      <td>82.0</td>\n",
       "    </tr>\n",
       "    <tr>\n",
       "      <th>967</th>\n",
       "      <td>2016</td>\n",
       "      <td>Physics</td>\n",
       "      <td>The Nobel Prize in Physics 2016</td>\n",
       "      <td>\"for theoretical discoveries of topological ph...</td>\n",
       "      <td>Individual</td>\n",
       "      <td>F. Duncan M. Haldane</td>\n",
       "      <td>1951.0</td>\n",
       "      <td>United Kingdom</td>\n",
       "      <td>Male</td>\n",
       "      <td>0</td>\n",
       "      <td>0</td>\n",
       "      <td>65.0</td>\n",
       "    </tr>\n",
       "    <tr>\n",
       "      <th>968</th>\n",
       "      <td>2016</td>\n",
       "      <td>Physics</td>\n",
       "      <td>The Nobel Prize in Physics 2016</td>\n",
       "      <td>\"for theoretical discoveries of topological ph...</td>\n",
       "      <td>Individual</td>\n",
       "      <td>J. Michael Kosterlitz</td>\n",
       "      <td>1943.0</td>\n",
       "      <td>United Kingdom</td>\n",
       "      <td>Male</td>\n",
       "      <td>0</td>\n",
       "      <td>0</td>\n",
       "      <td>73.0</td>\n",
       "    </tr>\n",
       "  </tbody>\n",
       "</table>\n",
       "<p>969 rows × 12 columns</p>\n",
       "</div>"
      ],
      "text/plain": [
       "     Year    Category                                           Prize  \\\n",
       "0    1901   Chemistry               The Nobel Prize in Chemistry 1901   \n",
       "1    1901  Literature              The Nobel Prize in Literature 1901   \n",
       "2    1901    Medicine  The Nobel Prize in Physiology or Medicine 1901   \n",
       "3    1901       Peace                      The Nobel Peace Prize 1901   \n",
       "4    1901       Peace                      The Nobel Peace Prize 1901   \n",
       "..    ...         ...                                             ...   \n",
       "964  2016    Medicine  The Nobel Prize in Physiology or Medicine 2016   \n",
       "965  2016       Peace                      The Nobel Peace Prize 2016   \n",
       "966  2016     Physics                 The Nobel Prize in Physics 2016   \n",
       "967  2016     Physics                 The Nobel Prize in Physics 2016   \n",
       "968  2016     Physics                 The Nobel Prize in Physics 2016   \n",
       "\n",
       "                                            Motivation Laureate Type  \\\n",
       "0    \"in recognition of the extraordinary services ...    Individual   \n",
       "1    \"in special recognition of his poetic composit...    Individual   \n",
       "2    \"for his work on serum therapy, especially its...    Individual   \n",
       "3                                                    0    Individual   \n",
       "4                                                    0    Individual   \n",
       "..                                                 ...           ...   \n",
       "964  \"for his discoveries of mechanisms for autophagy\"    Individual   \n",
       "965  \"for his resolute efforts to bring the country...    Individual   \n",
       "966  \"for theoretical discoveries of topological ph...    Individual   \n",
       "967  \"for theoretical discoveries of topological ph...    Individual   \n",
       "968  \"for theoretical discoveries of topological ph...    Individual   \n",
       "\n",
       "                        Full Name  Birth Date     Birth Country   Sex  \\\n",
       "0    Jacobus Henricus van 't Hoff      1852.0       Netherlands  Male   \n",
       "1                 Sully Prudhomme      1839.0            France  Male   \n",
       "2          Emil Adolf von Behring      1854.0  Prussia (Poland)  Male   \n",
       "3               Jean Henry Dunant      1828.0       Switzerland  Male   \n",
       "4                  Frédéric Passy      1822.0            France  Male   \n",
       "..                            ...         ...               ...   ...   \n",
       "964              Yoshinori Ohsumi      1945.0             Japan  Male   \n",
       "965            Juan Manuel Santos      1951.0          Colombia  Male   \n",
       "966             David J. Thouless      1934.0    United Kingdom  Male   \n",
       "967          F. Duncan M. Haldane      1951.0    United Kingdom  Male   \n",
       "968         J. Michael Kosterlitz      1943.0    United Kingdom  Male   \n",
       "\n",
       "     Death Date  Age  Real_Age  \n",
       "0    1911-03-01    0      49.0  \n",
       "1    1907-09-07    0      62.0  \n",
       "2    1917-03-31    0      47.0  \n",
       "3    1910-10-30    0      73.0  \n",
       "4    1912-06-12    0      79.0  \n",
       "..          ...  ...       ...  \n",
       "964           0    0      71.0  \n",
       "965           0    0      65.0  \n",
       "966           0    0      82.0  \n",
       "967           0    0      65.0  \n",
       "968           0    0      73.0  \n",
       "\n",
       "[969 rows x 12 columns]"
      ]
     },
     "execution_count": 200,
     "metadata": {},
     "output_type": "execute_result"
    }
   ],
   "source": [
    "new_nobel"
   ]
  },
  {
   "cell_type": "code",
   "execution_count": 201,
   "id": "cdbb6120",
   "metadata": {},
   "outputs": [
    {
     "data": {
      "text/html": [
       "<div>\n",
       "<style scoped>\n",
       "    .dataframe tbody tr th:only-of-type {\n",
       "        vertical-align: middle;\n",
       "    }\n",
       "\n",
       "    .dataframe tbody tr th {\n",
       "        vertical-align: top;\n",
       "    }\n",
       "\n",
       "    .dataframe thead th {\n",
       "        text-align: right;\n",
       "    }\n",
       "</style>\n",
       "<table border=\"1\" class=\"dataframe\">\n",
       "  <thead>\n",
       "    <tr style=\"text-align: right;\">\n",
       "      <th></th>\n",
       "      <th>Year</th>\n",
       "      <th>Category</th>\n",
       "      <th>Prize</th>\n",
       "      <th>Motivation</th>\n",
       "      <th>Laureate Type</th>\n",
       "      <th>Full Name</th>\n",
       "      <th>Birth Date</th>\n",
       "      <th>Birth Country</th>\n",
       "      <th>Sex</th>\n",
       "      <th>Death Date</th>\n",
       "      <th>Real_Age</th>\n",
       "    </tr>\n",
       "  </thead>\n",
       "  <tbody>\n",
       "    <tr>\n",
       "      <th>0</th>\n",
       "      <td>1901</td>\n",
       "      <td>Chemistry</td>\n",
       "      <td>The Nobel Prize in Chemistry 1901</td>\n",
       "      <td>\"in recognition of the extraordinary services ...</td>\n",
       "      <td>Individual</td>\n",
       "      <td>Jacobus Henricus van 't Hoff</td>\n",
       "      <td>1852.0</td>\n",
       "      <td>Netherlands</td>\n",
       "      <td>Male</td>\n",
       "      <td>1911-03-01</td>\n",
       "      <td>49.0</td>\n",
       "    </tr>\n",
       "    <tr>\n",
       "      <th>1</th>\n",
       "      <td>1901</td>\n",
       "      <td>Literature</td>\n",
       "      <td>The Nobel Prize in Literature 1901</td>\n",
       "      <td>\"in special recognition of his poetic composit...</td>\n",
       "      <td>Individual</td>\n",
       "      <td>Sully Prudhomme</td>\n",
       "      <td>1839.0</td>\n",
       "      <td>France</td>\n",
       "      <td>Male</td>\n",
       "      <td>1907-09-07</td>\n",
       "      <td>62.0</td>\n",
       "    </tr>\n",
       "    <tr>\n",
       "      <th>2</th>\n",
       "      <td>1901</td>\n",
       "      <td>Medicine</td>\n",
       "      <td>The Nobel Prize in Physiology or Medicine 1901</td>\n",
       "      <td>\"for his work on serum therapy, especially its...</td>\n",
       "      <td>Individual</td>\n",
       "      <td>Emil Adolf von Behring</td>\n",
       "      <td>1854.0</td>\n",
       "      <td>Prussia (Poland)</td>\n",
       "      <td>Male</td>\n",
       "      <td>1917-03-31</td>\n",
       "      <td>47.0</td>\n",
       "    </tr>\n",
       "    <tr>\n",
       "      <th>3</th>\n",
       "      <td>1901</td>\n",
       "      <td>Peace</td>\n",
       "      <td>The Nobel Peace Prize 1901</td>\n",
       "      <td>0</td>\n",
       "      <td>Individual</td>\n",
       "      <td>Jean Henry Dunant</td>\n",
       "      <td>1828.0</td>\n",
       "      <td>Switzerland</td>\n",
       "      <td>Male</td>\n",
       "      <td>1910-10-30</td>\n",
       "      <td>73.0</td>\n",
       "    </tr>\n",
       "    <tr>\n",
       "      <th>4</th>\n",
       "      <td>1901</td>\n",
       "      <td>Peace</td>\n",
       "      <td>The Nobel Peace Prize 1901</td>\n",
       "      <td>0</td>\n",
       "      <td>Individual</td>\n",
       "      <td>Frédéric Passy</td>\n",
       "      <td>1822.0</td>\n",
       "      <td>France</td>\n",
       "      <td>Male</td>\n",
       "      <td>1912-06-12</td>\n",
       "      <td>79.0</td>\n",
       "    </tr>\n",
       "    <tr>\n",
       "      <th>...</th>\n",
       "      <td>...</td>\n",
       "      <td>...</td>\n",
       "      <td>...</td>\n",
       "      <td>...</td>\n",
       "      <td>...</td>\n",
       "      <td>...</td>\n",
       "      <td>...</td>\n",
       "      <td>...</td>\n",
       "      <td>...</td>\n",
       "      <td>...</td>\n",
       "      <td>...</td>\n",
       "    </tr>\n",
       "    <tr>\n",
       "      <th>964</th>\n",
       "      <td>2016</td>\n",
       "      <td>Medicine</td>\n",
       "      <td>The Nobel Prize in Physiology or Medicine 2016</td>\n",
       "      <td>\"for his discoveries of mechanisms for autophagy\"</td>\n",
       "      <td>Individual</td>\n",
       "      <td>Yoshinori Ohsumi</td>\n",
       "      <td>1945.0</td>\n",
       "      <td>Japan</td>\n",
       "      <td>Male</td>\n",
       "      <td>0</td>\n",
       "      <td>71.0</td>\n",
       "    </tr>\n",
       "    <tr>\n",
       "      <th>965</th>\n",
       "      <td>2016</td>\n",
       "      <td>Peace</td>\n",
       "      <td>The Nobel Peace Prize 2016</td>\n",
       "      <td>\"for his resolute efforts to bring the country...</td>\n",
       "      <td>Individual</td>\n",
       "      <td>Juan Manuel Santos</td>\n",
       "      <td>1951.0</td>\n",
       "      <td>Colombia</td>\n",
       "      <td>Male</td>\n",
       "      <td>0</td>\n",
       "      <td>65.0</td>\n",
       "    </tr>\n",
       "    <tr>\n",
       "      <th>966</th>\n",
       "      <td>2016</td>\n",
       "      <td>Physics</td>\n",
       "      <td>The Nobel Prize in Physics 2016</td>\n",
       "      <td>\"for theoretical discoveries of topological ph...</td>\n",
       "      <td>Individual</td>\n",
       "      <td>David J. Thouless</td>\n",
       "      <td>1934.0</td>\n",
       "      <td>United Kingdom</td>\n",
       "      <td>Male</td>\n",
       "      <td>0</td>\n",
       "      <td>82.0</td>\n",
       "    </tr>\n",
       "    <tr>\n",
       "      <th>967</th>\n",
       "      <td>2016</td>\n",
       "      <td>Physics</td>\n",
       "      <td>The Nobel Prize in Physics 2016</td>\n",
       "      <td>\"for theoretical discoveries of topological ph...</td>\n",
       "      <td>Individual</td>\n",
       "      <td>F. Duncan M. Haldane</td>\n",
       "      <td>1951.0</td>\n",
       "      <td>United Kingdom</td>\n",
       "      <td>Male</td>\n",
       "      <td>0</td>\n",
       "      <td>65.0</td>\n",
       "    </tr>\n",
       "    <tr>\n",
       "      <th>968</th>\n",
       "      <td>2016</td>\n",
       "      <td>Physics</td>\n",
       "      <td>The Nobel Prize in Physics 2016</td>\n",
       "      <td>\"for theoretical discoveries of topological ph...</td>\n",
       "      <td>Individual</td>\n",
       "      <td>J. Michael Kosterlitz</td>\n",
       "      <td>1943.0</td>\n",
       "      <td>United Kingdom</td>\n",
       "      <td>Male</td>\n",
       "      <td>0</td>\n",
       "      <td>73.0</td>\n",
       "    </tr>\n",
       "  </tbody>\n",
       "</table>\n",
       "<p>969 rows × 11 columns</p>\n",
       "</div>"
      ],
      "text/plain": [
       "     Year    Category                                           Prize  \\\n",
       "0    1901   Chemistry               The Nobel Prize in Chemistry 1901   \n",
       "1    1901  Literature              The Nobel Prize in Literature 1901   \n",
       "2    1901    Medicine  The Nobel Prize in Physiology or Medicine 1901   \n",
       "3    1901       Peace                      The Nobel Peace Prize 1901   \n",
       "4    1901       Peace                      The Nobel Peace Prize 1901   \n",
       "..    ...         ...                                             ...   \n",
       "964  2016    Medicine  The Nobel Prize in Physiology or Medicine 2016   \n",
       "965  2016       Peace                      The Nobel Peace Prize 2016   \n",
       "966  2016     Physics                 The Nobel Prize in Physics 2016   \n",
       "967  2016     Physics                 The Nobel Prize in Physics 2016   \n",
       "968  2016     Physics                 The Nobel Prize in Physics 2016   \n",
       "\n",
       "                                            Motivation Laureate Type  \\\n",
       "0    \"in recognition of the extraordinary services ...    Individual   \n",
       "1    \"in special recognition of his poetic composit...    Individual   \n",
       "2    \"for his work on serum therapy, especially its...    Individual   \n",
       "3                                                    0    Individual   \n",
       "4                                                    0    Individual   \n",
       "..                                                 ...           ...   \n",
       "964  \"for his discoveries of mechanisms for autophagy\"    Individual   \n",
       "965  \"for his resolute efforts to bring the country...    Individual   \n",
       "966  \"for theoretical discoveries of topological ph...    Individual   \n",
       "967  \"for theoretical discoveries of topological ph...    Individual   \n",
       "968  \"for theoretical discoveries of topological ph...    Individual   \n",
       "\n",
       "                        Full Name  Birth Date     Birth Country   Sex  \\\n",
       "0    Jacobus Henricus van 't Hoff      1852.0       Netherlands  Male   \n",
       "1                 Sully Prudhomme      1839.0            France  Male   \n",
       "2          Emil Adolf von Behring      1854.0  Prussia (Poland)  Male   \n",
       "3               Jean Henry Dunant      1828.0       Switzerland  Male   \n",
       "4                  Frédéric Passy      1822.0            France  Male   \n",
       "..                            ...         ...               ...   ...   \n",
       "964              Yoshinori Ohsumi      1945.0             Japan  Male   \n",
       "965            Juan Manuel Santos      1951.0          Colombia  Male   \n",
       "966             David J. Thouless      1934.0    United Kingdom  Male   \n",
       "967          F. Duncan M. Haldane      1951.0    United Kingdom  Male   \n",
       "968         J. Michael Kosterlitz      1943.0    United Kingdom  Male   \n",
       "\n",
       "     Death Date  Real_Age  \n",
       "0    1911-03-01      49.0  \n",
       "1    1907-09-07      62.0  \n",
       "2    1917-03-31      47.0  \n",
       "3    1910-10-30      73.0  \n",
       "4    1912-06-12      79.0  \n",
       "..          ...       ...  \n",
       "964           0      71.0  \n",
       "965           0      65.0  \n",
       "966           0      82.0  \n",
       "967           0      65.0  \n",
       "968           0      73.0  \n",
       "\n",
       "[969 rows x 11 columns]"
      ]
     },
     "execution_count": 201,
     "metadata": {},
     "output_type": "execute_result"
    }
   ],
   "source": [
    "new_nobel.drop(labels=\"Age\", axis =1)"
   ]
  },
  {
   "cell_type": "code",
   "execution_count": 212,
   "id": "70ed1038",
   "metadata": {},
   "outputs": [
    {
     "data": {
      "text/plain": [
       "59.48510638297872"
      ]
     },
     "execution_count": 212,
     "metadata": {},
     "output_type": "execute_result"
    }
   ],
   "source": [
    "new_nobel[\"Real_Age\"].mean()"
   ]
  },
  {
   "cell_type": "code",
   "execution_count": 213,
   "id": "36cf686a",
   "metadata": {},
   "outputs": [
    {
     "data": {
      "text/html": [
       "<div>\n",
       "<style scoped>\n",
       "    .dataframe tbody tr th:only-of-type {\n",
       "        vertical-align: middle;\n",
       "    }\n",
       "\n",
       "    .dataframe tbody tr th {\n",
       "        vertical-align: top;\n",
       "    }\n",
       "\n",
       "    .dataframe thead th {\n",
       "        text-align: right;\n",
       "    }\n",
       "</style>\n",
       "<table border=\"1\" class=\"dataframe\">\n",
       "  <thead>\n",
       "    <tr style=\"text-align: right;\">\n",
       "      <th></th>\n",
       "      <th>Year</th>\n",
       "      <th>Birth Date</th>\n",
       "      <th>Age</th>\n",
       "      <th>Real_Age</th>\n",
       "    </tr>\n",
       "  </thead>\n",
       "  <tbody>\n",
       "    <tr>\n",
       "      <th>count</th>\n",
       "      <td>969.000000</td>\n",
       "      <td>940.000000</td>\n",
       "      <td>969.0</td>\n",
       "      <td>940.000000</td>\n",
       "    </tr>\n",
       "    <tr>\n",
       "      <th>mean</th>\n",
       "      <td>1970.287926</td>\n",
       "      <td>1910.595745</td>\n",
       "      <td>0.0</td>\n",
       "      <td>59.485106</td>\n",
       "    </tr>\n",
       "    <tr>\n",
       "      <th>std</th>\n",
       "      <td>32.937498</td>\n",
       "      <td>31.242198</td>\n",
       "      <td>0.0</td>\n",
       "      <td>12.364399</td>\n",
       "    </tr>\n",
       "    <tr>\n",
       "      <th>min</th>\n",
       "      <td>1901.000000</td>\n",
       "      <td>1817.000000</td>\n",
       "      <td>0.0</td>\n",
       "      <td>17.000000</td>\n",
       "    </tr>\n",
       "    <tr>\n",
       "      <th>25%</th>\n",
       "      <td>1947.000000</td>\n",
       "      <td>1891.000000</td>\n",
       "      <td>0.0</td>\n",
       "      <td>50.000000</td>\n",
       "    </tr>\n",
       "    <tr>\n",
       "      <th>50%</th>\n",
       "      <td>1976.000000</td>\n",
       "      <td>1916.000000</td>\n",
       "      <td>0.0</td>\n",
       "      <td>60.000000</td>\n",
       "    </tr>\n",
       "    <tr>\n",
       "      <th>75%</th>\n",
       "      <td>1999.000000</td>\n",
       "      <td>1935.250000</td>\n",
       "      <td>0.0</td>\n",
       "      <td>69.000000</td>\n",
       "    </tr>\n",
       "    <tr>\n",
       "      <th>max</th>\n",
       "      <td>2016.000000</td>\n",
       "      <td>1997.000000</td>\n",
       "      <td>0.0</td>\n",
       "      <td>90.000000</td>\n",
       "    </tr>\n",
       "  </tbody>\n",
       "</table>\n",
       "</div>"
      ],
      "text/plain": [
       "              Year   Birth Date    Age    Real_Age\n",
       "count   969.000000   940.000000  969.0  940.000000\n",
       "mean   1970.287926  1910.595745    0.0   59.485106\n",
       "std      32.937498    31.242198    0.0   12.364399\n",
       "min    1901.000000  1817.000000    0.0   17.000000\n",
       "25%    1947.000000  1891.000000    0.0   50.000000\n",
       "50%    1976.000000  1916.000000    0.0   60.000000\n",
       "75%    1999.000000  1935.250000    0.0   69.000000\n",
       "max    2016.000000  1997.000000    0.0   90.000000"
      ]
     },
     "execution_count": 213,
     "metadata": {},
     "output_type": "execute_result"
    }
   ],
   "source": [
    "new_nobel.describe()"
   ]
  },
  {
   "cell_type": "markdown",
   "id": "f6d70e67",
   "metadata": {},
   "source": [
    "# Question 4"
   ]
  },
  {
   "cell_type": "code",
   "execution_count": 221,
   "id": "b461e925",
   "metadata": {},
   "outputs": [],
   "source": [
    "nba_series = pd.read_csv(\"C:\\\\Users\\\\chanc\\\\Documents\\\\Creighton\\\\Data Wrangling\\\\nba.csv\", usecols= [\"Salary\",'Name'], index_col = [\"Name\"], squeeze= True)"
   ]
  },
  {
   "cell_type": "code",
   "execution_count": 223,
   "id": "c8732ed5",
   "metadata": {},
   "outputs": [
    {
     "data": {
      "text/plain": [
       "nan"
      ]
     },
     "execution_count": 223,
     "metadata": {},
     "output_type": "execute_result"
    }
   ],
   "source": [
    "nba_series[\"John Holland\"]"
   ]
  },
  {
   "cell_type": "code",
   "execution_count": 228,
   "id": "f0d8f0f1",
   "metadata": {},
   "outputs": [
    {
     "data": {
      "text/plain": [
       "False"
      ]
     },
     "execution_count": 228,
     "metadata": {},
     "output_type": "execute_result"
    }
   ],
   "source": [
    "5000000 in nba_series #no"
   ]
  },
  {
   "cell_type": "code",
   "execution_count": 240,
   "id": "5d421140",
   "metadata": {},
   "outputs": [
    {
     "data": {
      "text/plain": [
       "4842684.105381166"
      ]
     },
     "execution_count": 240,
     "metadata": {},
     "output_type": "execute_result"
    }
   ],
   "source": [
    "nba_series.mean()"
   ]
  },
  {
   "cell_type": "code",
   "execution_count": 242,
   "id": "37e5b656",
   "metadata": {},
   "outputs": [],
   "source": [
    "\n",
    "def salarycheck(n):\n",
    "\n",
    "    Average = 4842684.10   \n",
    "    \n",
    "    if n == Average:\n",
    "        return \"Average Salary\"\n",
    "    elif n > Average:\n",
    "        return \"Above Average\"\n",
    "    elif n < Average:\n",
    "        return \"Below Average\"\n",
    "    else:\n",
    "        return \"No Salary Reported\""
   ]
  },
  {
   "cell_type": "code",
   "execution_count": 244,
   "id": "9f4ce01c",
   "metadata": {},
   "outputs": [
    {
     "data": {
      "text/plain": [
       "Below Average         296\n",
       "Above Average         150\n",
       "No Salary Reported     12\n",
       "Name: Salary, dtype: int64"
      ]
     },
     "execution_count": 244,
     "metadata": {},
     "output_type": "execute_result"
    }
   ],
   "source": [
    "nba_series.apply(salarycheck).value_counts()"
   ]
  },
  {
   "cell_type": "code",
   "execution_count": null,
   "id": "1505444a",
   "metadata": {},
   "outputs": [],
   "source": []
  }
 ],
 "metadata": {
  "kernelspec": {
   "display_name": "Python 3",
   "language": "python",
   "name": "python3"
  },
  "language_info": {
   "codemirror_mode": {
    "name": "ipython",
    "version": 3
   },
   "file_extension": ".py",
   "mimetype": "text/x-python",
   "name": "python",
   "nbconvert_exporter": "python",
   "pygments_lexer": "ipython3",
   "version": "3.8.8"
  }
 },
 "nbformat": 4,
 "nbformat_minor": 5
}
