{
 "cells": [
  {
   "cell_type": "markdown",
   "metadata": {},
   "source": [
    "# ANX 603 :  Python for Data Analytics\n",
    "## Assignment 3  - Due Wednesday 9/7/2022, at 11:59 pm ( 10 points in total)\n",
    "## Instructor : Dr. Ali Dag\n",
    "\n",
    "## Each question is worth 1 point. \n",
    "\n",
    "### Note  Please note that the output that you should obtain is given below each question !, So take the advantage of it !\n",
    "\n",
    "#### Note : Submit .ipynb (this) file to the canvas. Name your .ipynb file as “Yourname_Assignment2.ipynb\" before submitting.\n",
    "\n",
    "While working on the assignment;\n",
    "- Use your judgement\n",
    "- State your assumptions (what do you understand)\n",
    "- Solve the problem\n",
    "\n",
    "Good luck!\n"
   ]
  },
  {
   "cell_type": "code",
   "execution_count": 2,
   "metadata": {},
   "outputs": [
    {
     "data": {
      "text/plain": [
       "2"
      ]
     },
     "execution_count": 2,
     "metadata": {},
     "output_type": "execute_result"
    }
   ],
   "source": [
    "# Question 1 : Create a function that counts the number of times the word \"cat\" occurs in a string. \n",
    "# Don't worry about edge cases like a punctuation being attached to the word cat, \n",
    "# but do account for capitalization (CAT, cat, Cat, ....regarless of the case) **\n",
    "\n",
    "\n",
    "    # Example :  countCat('A Cat is a cat and that is that!')  >>>=== 2\n",
    "\n",
    "\n",
    "    \n",
    "    \n",
    "countCat('A Cat is a cat and that is that!')"
   ]
  },
  {
   "cell_type": "code",
   "execution_count": 9,
   "metadata": {
    "scrolled": true
   },
   "outputs": [],
   "source": [
    "#format the string before processing it - remove captialize and process it one piece at a time\n",
    "\n",
    "def catcounter(x):\n",
    "    x=x.lower()\n",
    "    x=x.split()\n",
    "    counter=0\n",
    "    for i in x:\n",
    "            if i==\"cat\":\n",
    "                counter=counter +1\n",
    "    \n",
    "    print(counter)\n"
   ]
  },
  {
   "cell_type": "code",
   "execution_count": 8,
   "metadata": {
    "scrolled": true
   },
   "outputs": [
    {
     "name": "stdout",
     "output_type": "stream",
     "text": [
      "2\n"
     ]
    }
   ],
   "source": [
    "catcounter('A Cat is a cat and that is that!')"
   ]
  },
  {
   "cell_type": "code",
   "execution_count": 4,
   "metadata": {},
   "outputs": [
    {
     "data": {
      "text/plain": [
       "15"
      ]
     },
     "execution_count": 4,
     "metadata": {},
     "output_type": "execute_result"
    }
   ],
   "source": [
    "# Question 2: Implement a function that takes a single parameter x (an integer) \n",
    "# and calculates sum of all of the numbers between 0 and that integer (inclusive).\n",
    "\n",
    "# Example :\n",
    "             \n",
    "    # sum_num(5) >>>====  15 (0+1+2+3+4+5)\n",
    "    # sum_num(2) >>>====  3 (0+1+2)\n",
    "    \n",
    "    \n",
    "sum_num(5)"
   ]
  },
  {
   "cell_type": "code",
   "execution_count": 11,
   "metadata": {},
   "outputs": [],
   "source": [
    "#import numpy in function\n",
    "\n",
    "def sum_num(x):\n",
    "    import numpy as np\n",
    "    x=x+1\n",
    "    print(sum(np.arange(1,x)))"
   ]
  },
  {
   "cell_type": "code",
   "execution_count": 12,
   "metadata": {},
   "outputs": [
    {
     "name": "stdout",
     "output_type": "stream",
     "text": [
      "15\n"
     ]
    }
   ],
   "source": [
    "sum_num(5)"
   ]
  },
  {
   "cell_type": "code",
   "execution_count": 6,
   "metadata": {},
   "outputs": [
    {
     "data": {
      "text/plain": [
       "['Omaha']"
      ]
     },
     "execution_count": 6,
     "metadata": {},
     "output_type": "execute_result"
    }
   ],
   "source": [
    "# Exercise 3: Implement a function called filter_less_than() that takes a list of words \n",
    "# and returns list of words with the length less than or equal to 5 characters.\n",
    "\n",
    "\n",
    "\n",
    "# Example:\n",
    "\n",
    "#[IN]: filter_less_than(['Creighton', 'Heider', 'Omaha'])\n",
    "#[OUT]: ['Creighton']\n",
    "\n",
    "\n",
    "filter_less_than(['Creighton', 'Heider', 'Omaha'])\n"
   ]
  },
  {
   "cell_type": "code",
   "execution_count": 19,
   "metadata": {},
   "outputs": [],
   "source": [
    "#don't need to split because commas split it \n",
    "\n",
    "def filter_less_than(x):\n",
    "    for i in x:\n",
    "        if len(i)<=5:\n",
    "            print(i)"
   ]
  },
  {
   "cell_type": "code",
   "execution_count": 20,
   "metadata": {
    "scrolled": true
   },
   "outputs": [
    {
     "name": "stdout",
     "output_type": "stream",
     "text": [
      "Omaha\n"
     ]
    }
   ],
   "source": [
    "filter_less_than(['Creighton', 'Heider', 'Omaha'])"
   ]
  },
  {
   "cell_type": "code",
   "execution_count": 8,
   "metadata": {},
   "outputs": [
    {
     "data": {
      "text/plain": [
       "'in'"
      ]
     },
     "execution_count": 8,
     "metadata": {},
     "output_type": "execute_result"
    }
   ],
   "source": [
    "# Exercise 4: Implement a function called find_shortest_word() that takes a single parameter x (a string) \n",
    "# and returns the shortest word in the sentence (string) \n",
    "\n",
    "    # Example:\n",
    "\n",
    "   #[IN]: find_shortest_word(['Everybody in this class love learning functions''])\n",
    "   #[OUT]: ['in']\n",
    "    \n",
    "    \n",
    "find_shortest_word('Everybody in this class love learning functions')"
   ]
  },
  {
   "cell_type": "code",
   "execution_count": 21,
   "metadata": {},
   "outputs": [],
   "source": [
    "#split to check each word\n",
    "def find_shortest_word(x):\n",
    "    x=x.split()\n",
    "    x=sorted(x, key=lambda el: len(el))\n",
    "    print(x[0])"
   ]
  },
  {
   "cell_type": "code",
   "execution_count": 22,
   "metadata": {},
   "outputs": [
    {
     "name": "stdout",
     "output_type": "stream",
     "text": [
      "in\n"
     ]
    }
   ],
   "source": [
    "find_shortest_word('Everybody in this class love learning functions')"
   ]
  },
  {
   "cell_type": "code",
   "execution_count": 12,
   "metadata": {},
   "outputs": [
    {
     "name": "stdout",
     "output_type": "stream",
     "text": [
      "Not so happy ending!\n",
      "Happy ending\n"
     ]
    }
   ],
   "source": [
    "# Question 5 : Assuem that you are driving a little too fast, and a police officer stops you. \n",
    "# Write a function to return one of 3 possible results: \n",
    "# 1) \"Happy ending\", \"Not so happy ending!\", or \"Sad story\".\n",
    "# If your speed is 65 or less, the result is \"Happy ending\". \n",
    "\n",
    "# If speed is between 66 and 75 inclusive, the result is \"Not so happy ending!\". \n",
    "\n",
    "# If speed is 76 or more, the result is \"Sad story\". \n",
    "\n",
    "# Unless it is your birthday (encoded as a boolean value in the parameters of the function) -- on your birthday, \n",
    "# your speed can be 5 higher in all cases. *\n",
    "\n",
    "\n",
    "\n",
    "   # Example : \n",
    "    \n",
    "    #     caught_speeding(70, True)   >>>=== 'Happy ending'\n",
    "    #     caught_speeding(70, False)   >>>=== 'Not so happy ending!'\n",
    "\n",
    "\n",
    "\n",
    "print(caught_speeding(70, True))\n",
    "print(caught_speeding(70, False))\n"
   ]
  },
  {
   "cell_type": "code",
   "execution_count": 26,
   "metadata": {},
   "outputs": [],
   "source": [
    "def caught_speeding(x,y):\n",
    "    if y==True and x<=70:\n",
    "        print(\"Happy Ending!\")\n",
    "    elif y==True and 71<=x<=80:\n",
    "        print(\"Not so Happy Ending!\")\n",
    "    elif y==True and x>80:\n",
    "        print(\"Sad story\")\n",
    "    elif y==False and x<=65:\n",
    "        print(\"Happy Ending!\")\n",
    "    elif y==False and 66<=x<=75:\n",
    "        print(\"Not so Happy Ending!\")\n",
    "    elif y==False and x>75:\n",
    "        print(\"Sad story\")\n",
    "\n",
    "#the question has an error. the example is correct and my answer reflects the example however the given outputs don't make sense\n",
    "# the given solution should be reversed. If its your birthday and you were going 70 this would be true and be a happy ending\n",
    "# your solution would ask \"is it not your birthday\" if it wasn't there birthday it would be true."
   ]
  },
  {
   "cell_type": "code",
   "execution_count": 27,
   "metadata": {},
   "outputs": [
    {
     "name": "stdout",
     "output_type": "stream",
     "text": [
      "Happy Ending!\n",
      "Not so Happy Ending!\n"
     ]
    }
   ],
   "source": [
    "caught_speeding(70,True)\n",
    "caught_speeding(70, False)"
   ]
  },
  {
   "cell_type": "code",
   "execution_count": 28,
   "metadata": {},
   "outputs": [],
   "source": [
    "# Question 6: Generate a 3 by 4 matrix that consists of random numbers sampled from a standard normal distribution"
   ]
  },
  {
   "cell_type": "code",
   "execution_count": 30,
   "metadata": {},
   "outputs": [
    {
     "data": {
      "text/plain": [
       "array([[ 0.77333658, -0.30460069,  1.15407016,  0.53942909],\n",
       "       [ 0.00568102, -0.72295806,  1.3228536 ,  2.16103218],\n",
       "       [-0.19510447, -0.08450523,  0.57723744,  0.04604589]])"
      ]
     },
     "execution_count": 30,
     "metadata": {},
     "output_type": "execute_result"
    }
   ],
   "source": [
    "import numpy as np\n",
    "np.random.randn(3,4)"
   ]
  },
  {
   "cell_type": "code",
   "execution_count": null,
   "metadata": {},
   "outputs": [],
   "source": []
  },
  {
   "cell_type": "code",
   "execution_count": 31,
   "metadata": {},
   "outputs": [
    {
     "data": {
      "text/plain": [
       "array([[0.1, 0.2, 0.3, 0.4, 0.5],\n",
       "       [0.6, 0.7, 0.8, 0.9, 1. ],\n",
       "       [1.1, 1.2, 1.3, 1.4, 1.5],\n",
       "       [1.6, 1.7, 1.8, 1.9, 2. ]])"
      ]
     },
     "execution_count": 31,
     "metadata": {},
     "output_type": "execute_result"
    }
   ],
   "source": [
    "# Question 7:  Create the following matrix using numpy\n",
    "\n",
    "np.arange(0.1,2.1,.1).reshape(4,5)"
   ]
  },
  {
   "cell_type": "markdown",
   "metadata": {},
   "source": [
    "### For questions 8, 9 and 10, use the \"my_array_1\" array that is created in the cell below."
   ]
  },
  {
   "cell_type": "code",
   "execution_count": 32,
   "metadata": {
    "scrolled": true
   },
   "outputs": [
    {
     "data": {
      "text/plain": [
       "array([[15, 14, 15,  3, 13],\n",
       "       [ 3,  7,  2,  4, 11],\n",
       "       [12, 10,  7,  2,  1]])"
      ]
     },
     "execution_count": 32,
     "metadata": {},
     "output_type": "execute_result"
    }
   ],
   "source": [
    "np.random.seed(123)\n",
    "my_array_1 = np.random.randint(1,16,15).reshape(3,5)\n",
    "my_array_1"
   ]
  },
  {
   "cell_type": "code",
   "execution_count": null,
   "metadata": {},
   "outputs": [],
   "source": []
  },
  {
   "cell_type": "code",
   "execution_count": 17,
   "metadata": {
    "scrolled": true
   },
   "outputs": [
    {
     "data": {
      "text/plain": [
       "array([[ 2,  4, 11],\n",
       "       [ 7,  2,  1]])"
      ]
     },
     "execution_count": 17,
     "metadata": {},
     "output_type": "execute_result"
    }
   ],
   "source": [
    "# Question 8 :  Write the code (indexing/slicing) below that generates the new matrix below it.\n"
   ]
  },
  {
   "cell_type": "code",
   "execution_count": 33,
   "metadata": {},
   "outputs": [
    {
     "data": {
      "text/plain": [
       "array([[ 2,  4, 11],\n",
       "       [ 7,  2,  1]])"
      ]
     },
     "execution_count": 33,
     "metadata": {},
     "output_type": "execute_result"
    }
   ],
   "source": [
    "my_array_1[1:3,2:5]"
   ]
  },
  {
   "cell_type": "code",
   "execution_count": null,
   "metadata": {},
   "outputs": [],
   "source": []
  },
  {
   "cell_type": "code",
   "execution_count": 18,
   "metadata": {},
   "outputs": [
    {
     "data": {
      "text/plain": [
       "array([[14, 15],\n",
       "       [ 7,  2]])"
      ]
     },
     "execution_count": 18,
     "metadata": {},
     "output_type": "execute_result"
    }
   ],
   "source": [
    "# Question 9 : Write the code (indexing/slicing) below that generates the new matrix below it.\n",
    "\n"
   ]
  },
  {
   "cell_type": "code",
   "execution_count": 34,
   "metadata": {},
   "outputs": [
    {
     "data": {
      "text/plain": [
       "array([[14, 15],\n",
       "       [ 7,  2]])"
      ]
     },
     "execution_count": 34,
     "metadata": {},
     "output_type": "execute_result"
    }
   ],
   "source": [
    "my_array_1[0:2,1:3]"
   ]
  },
  {
   "cell_type": "code",
   "execution_count": null,
   "metadata": {},
   "outputs": [],
   "source": []
  },
  {
   "cell_type": "code",
   "execution_count": 19,
   "metadata": {
    "scrolled": true
   },
   "outputs": [
    {
     "name": "stdout",
     "output_type": "stream",
     "text": [
      "119\n",
      "5.012872319228657\n",
      "[30 31 24  9 25]\n"
     ]
    }
   ],
   "source": [
    "# Question 10 :\n",
    "\n",
    "#### Step 1:  Get the sum of all the values in my_array_1\n",
    "#### Step 2:  Get the standard deviation of the values in my_array_1\n",
    "#### Step 3:  Get the sum of all the columns in my_array_1\n",
    "\n",
    "\n"
   ]
  },
  {
   "cell_type": "code",
   "execution_count": 35,
   "metadata": {},
   "outputs": [
    {
     "name": "stdout",
     "output_type": "stream",
     "text": [
      "119\n",
      "5.012872319228657\n",
      "[30 31 24  9 25]\n"
     ]
    }
   ],
   "source": [
    "print(my_array_1.sum())\n",
    "print(my_array_1.std())\n",
    "print(my_array_1.sum(axis=0))"
   ]
  },
  {
   "cell_type": "code",
   "execution_count": null,
   "metadata": {},
   "outputs": [],
   "source": []
  },
  {
   "cell_type": "code",
   "execution_count": null,
   "metadata": {},
   "outputs": [],
   "source": []
  }
 ],
 "metadata": {
  "kernelspec": {
   "display_name": "Python 3",
   "language": "python",
   "name": "python3"
  },
  "language_info": {
   "codemirror_mode": {
    "name": "ipython",
    "version": 3
   },
   "file_extension": ".py",
   "mimetype": "text/x-python",
   "name": "python",
   "nbconvert_exporter": "python",
   "pygments_lexer": "ipython3",
   "version": "3.8.8"
  }
 },
 "nbformat": 4,
 "nbformat_minor": 2
}
