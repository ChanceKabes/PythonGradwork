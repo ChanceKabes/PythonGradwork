{
 "cells": [
  {
   "cell_type": "markdown",
   "id": "23e6b43d",
   "metadata": {},
   "source": [
    "# ANX 603 :  Python for Data Analytics\n",
    "## Assignment 2  - Due Wednesday 8/31/2022, at 11:59 pm ( 10 points in total)\n",
    "## Instructor : Dr. Ali Dag\n",
    "\n",
    "## Each question is worth 1 point. \n",
    "\n",
    "## Note  Please note that the output that you should obtain is given below each question !, So take the advantage of it !\n",
    "\n",
    "#### Note : Submit .ipynb (this) file to the canvas. Name your .ipynb file as “Yourname_Assignment2.ipynb\" before submitting.\n",
    "\n",
    "While working on the assignment;\n",
    "- Use your judgement\n",
    "- State your assumptions (what do you understand)\n",
    "- Solve the problem\n",
    "\n",
    "Good luck!"
   ]
  },
  {
   "cell_type": "code",
   "execution_count": 4,
   "id": "8a88da98",
   "metadata": {},
   "outputs": [
    {
     "name": "stdout",
     "output_type": "stream",
     "text": [
      "True!\n"
     ]
    }
   ],
   "source": [
    "# Question 1:  Considering the code below, write code that prints out True! if x has 3 items or more. \n",
    "\n",
    "# Otherwise False\n",
    "\n",
    "\n",
    "list_1 = [\"Heider\",'Creighton',\"Jack\"]\n",
    "\n",
    "#use length to determine about of items\n",
    "\n",
    "if len(list_1)>=3:\n",
    "    print(\"True!\")\n",
    "else:\n",
    "    print(\"False!\")\n",
    "   \n"
   ]
  },
  {
   "cell_type": "code",
   "execution_count": null,
   "id": "db464ff4",
   "metadata": {},
   "outputs": [],
   "source": []
  },
  {
   "cell_type": "code",
   "execution_count": 6,
   "id": "8ab55a9e",
   "metadata": {},
   "outputs": [
    {
     "name": "stdout",
     "output_type": "stream",
     "text": [
      "True!\n"
     ]
    }
   ],
   "source": [
    "# Question 2:  Considering the code below, write code that prints out True! \n",
    "# if at least one of the following conditions occurs:\n",
    "\n",
    "## the string contains the character \"w\"\n",
    "\n",
    "## the string contains the space character \" \" at least four times\n",
    "\n",
    "string_2 = \"This is week 2 and it is even more fun to learn the conditions, loops etc.\"\n",
    "\n",
    "#use count to determine spaces\n",
    "\n",
    "if \"W\" in string_2 or string_2.count(\" \")>=4:\n",
    "    print(\"True!\")\n",
    "else:\n",
    "    print(\"False!\")\n",
    "\n"
   ]
  },
  {
   "cell_type": "code",
   "execution_count": null,
   "id": "67928b90",
   "metadata": {},
   "outputs": [],
   "source": []
  },
  {
   "cell_type": "code",
   "execution_count": 23,
   "id": "156ac344",
   "metadata": {},
   "outputs": [
    {
     "name": "stdout",
     "output_type": "stream",
     "text": [
      "Maybe!\n"
     ]
    }
   ],
   "source": [
    "#  Question 3 : Considering the code below, write code that prints out True! \n",
    "# if the smallest element of the first range plus the first element of the 2nd range is equal \n",
    "# to the first element of the third range, \n",
    "\n",
    "\n",
    "# prints out False! if the length of the second range minus the length of the 3rd range is equal \n",
    "# to the third element of the 3rd range, \n",
    "\n",
    "\n",
    "# and prints out Maybe! if the sum of all the elements of the 3rd range divided by 2 returns a remainder of 0, \n",
    "\n",
    "\n",
    "# and prints out None! otherwise.\n",
    "\n",
    "\n",
    "list_3 = [list(range(5)), list(range(5,9)), list(range(1,10,3))]\n",
    " \n",
    "#use indexing and nesting to call ranges\n",
    "#last range sum is even so maybe is called\n",
    "    \n",
    "if min(list_3[0]) + list_3[1][0] == list_3[2][0]:\n",
    "    print(True)\n",
    "elif len(list_3[1]) - len(list_3[2]) == list_3[2][2]:\n",
    "    print(\"False!\")\n",
    "\n",
    "elif sum(list_3[2])%2 == 0:\n",
    "    print(\"Maybe!\")\n",
    "else:\n",
    "    print(\"None!\")\n"
   ]
  },
  {
   "cell_type": "code",
   "execution_count": null,
   "id": "bb6baf5e",
   "metadata": {},
   "outputs": [],
   "source": []
  },
  {
   "cell_type": "code",
   "execution_count": 31,
   "id": "e9972f17",
   "metadata": {},
   "outputs": [
    {
     "name": "stdout",
     "output_type": "stream",
     "text": [
      "2.5\n",
      "0.5\n",
      "1.5\n",
      "7.0\n",
      "11.0\n",
      "50.0\n",
      "20.0\n",
      "Great job!\n"
     ]
    }
   ],
   "source": [
    "# Question 4: Write a for loop that iterates over the x list \n",
    "# and prints out all the elements of the list divided by 2 and the string \"Great job!\" after the list is exhausted.\n",
    "\n",
    "list_4 = [5, 1, 3, 14, 22, 100 ,40]\n",
    "\n",
    "#print should not be indented\n",
    "\n",
    "for x in list_4:\n",
    "    print((x/2))\n",
    "print(\"Great job!\")\n",
    "\n",
    "\n"
   ]
  },
  {
   "cell_type": "code",
   "execution_count": null,
   "id": "c18b07a1",
   "metadata": {},
   "outputs": [],
   "source": []
  },
  {
   "cell_type": "code",
   "execution_count": 41,
   "id": "61213b69",
   "metadata": {},
   "outputs": [
    {
     "name": "stdout",
     "output_type": "stream",
     "text": [
      "5.0\n",
      "5.5\n",
      "6.0\n",
      "6.5\n",
      "7.0\n",
      "1.5\n"
     ]
    }
   ],
   "source": [
    "# Question 5: Write a while loop that \n",
    "\n",
    "\n",
    "# prints out the value of x divided by y while x is greater than 10 and less than 15, \n",
    "\n",
    "\n",
    "# and prints out the result of x divided by 10 by y when x becomes 15. \n",
    "\n",
    "\n",
    "# Be careful not to end up with an infinite loop!\n",
    "\n",
    "\n",
    "\n",
    "x = 10\n",
    "y = 2\n",
    "\n",
    "#directions are confusing - has to be equal to 10 first or it wont iterate.\n",
    "#X+1 stops infinite looping\n",
    "\n",
    "while x >= 10 and x < 15:\n",
    "    print(x/y)\n",
    "    x = x + 1\n",
    "else:\n",
    "    print(x/10)      \n",
    "\n"
   ]
  },
  {
   "cell_type": "code",
   "execution_count": null,
   "id": "425cfc8c",
   "metadata": {},
   "outputs": [],
   "source": []
  },
  {
   "cell_type": "code",
   "execution_count": 61,
   "id": "fd381a33",
   "metadata": {},
   "outputs": [
    {
     "name": "stdout",
     "output_type": "stream",
     "text": [
      "6\n",
      "3\n",
      "2\n",
      "12\n",
      "6\n",
      "4\n",
      "18\n",
      "9\n",
      "6\n",
      "24\n",
      "12\n",
      "8\n"
     ]
    }
   ],
   "source": [
    "# Question 6 : Write a code that will iterate over the x and y lists \n",
    "# and divide each element of \"x\" by \"y\" that is less than 5  \n",
    "# also print the integer form of the results to the screen.\n",
    "\n",
    "# Again, convert the results to the integer.\n",
    "\n",
    "# Hint: use nesting!\n",
    "\n",
    "#use int for integer results to remove float\n",
    "\n",
    "x = [6, 12,18,24]\n",
    "y = [1, 2, 5, 3]\n",
    "\n",
    "for i in x:\n",
    "    for j in y:\n",
    "        if j < 5:\n",
    "            print(int(i/j))\n"
   ]
  },
  {
   "cell_type": "code",
   "execution_count": null,
   "id": "f388660b",
   "metadata": {},
   "outputs": [],
   "source": []
  },
  {
   "cell_type": "code",
   "execution_count": 79,
   "id": "ad08f847",
   "metadata": {},
   "outputs": [
    {
     "name": "stdout",
     "output_type": "stream",
     "text": [
      "[5, 9, 8, 10, 11, 13, 17, 27]\n",
      "[15, 27, 24, 30, 33, 39, 51, 81]\n"
     ]
    }
   ],
   "source": [
    "# Question 7: Using for loop, add 2 to each item in list7, and print the results in a different list called \"list7a\"\n",
    "\n",
    "# After that, again using for loop, multiply each item in list7a by 3, \n",
    "#and print the results in a different list called \"list7b\"\n",
    "    \n",
    "    \n",
    "list7=[3, 7, 6, 8, 9, 11, 15, 25]\n",
    "list7a=[]\n",
    "list7b=[]\n",
    "\n",
    "#use empty list in formula\n",
    "#use append to add to empty lists\n",
    "\n",
    "for a in list7:\n",
    "    list7a.append(a+2)\n",
    "print(list7a)\n",
    "\n",
    "for b in list7a:\n",
    "    list7b.append(b*3)\n",
    "print(list7b)\n",
    "\n",
    "\n",
    "\n"
   ]
  },
  {
   "cell_type": "code",
   "execution_count": null,
   "id": "39e0a9a8",
   "metadata": {},
   "outputs": [],
   "source": []
  },
  {
   "cell_type": "code",
   "execution_count": 82,
   "id": "4e58f802",
   "metadata": {},
   "outputs": [
    {
     "name": "stdout",
     "output_type": "stream",
     "text": [
      "How old are you?34\n",
      "Tell me a little bit about your job\n"
     ]
    }
   ],
   "source": [
    "# Question 8: Write an if statement that asks for the user's age via input() function. \n",
    "\n",
    "\n",
    "#If the age is greater than 65, make it print \"Are you planning to retire soon?\"\n",
    "\n",
    "\n",
    "# if the age is less than 23, make it print \"Do you plan to go to grad school?\"\n",
    "\n",
    "\n",
    "# Otherwise make it print \"Tell me a little bit about your job\". \n",
    "\n",
    "\n",
    "#(Replace Name with user's name)\n",
    "\n",
    "#use int to make input into number\n",
    "\n",
    "age = int(input(\"How old are you?\"))\n",
    "if age > 65:\n",
    "    print(\"Are you planning to retire soon?\")\n",
    "elif age < 23:\n",
    "    print(\"Do you plan to go to grad school?\")\n",
    "else:\n",
    "    print(\"Tell me a little bit about your job\") \n"
   ]
  },
  {
   "cell_type": "code",
   "execution_count": null,
   "id": "101089f9",
   "metadata": {},
   "outputs": [],
   "source": []
  },
  {
   "cell_type": "code",
   "execution_count": 119,
   "id": "e63c0cd9",
   "metadata": {
    "scrolled": true
   },
   "outputs": [
    {
     "name": "stdout",
     "output_type": "stream",
     "text": [
      "[1, 3, 9, 25]\n"
     ]
    }
   ],
   "source": [
    "# Question 9: The following list of numbers is given:   list_9 = [1,4, 3, 9, 16, 25]\n",
    "\n",
    "\n",
    "# Write a program that removes even numbers and returns the remaining ones. Print the result to the console.\n",
    "\n",
    "\n",
    "# Expected results: [1,3,9,25]\n",
    "     \n",
    "#use results as empty list to append into\n",
    "#use != as not equal\n",
    "    \n",
    "list_9 = [1,4, 3, 9, 16, 25]\n",
    "\n",
    "results=[]\n",
    "\n",
    "for a in list_9:\n",
    "    if a%2 != 0:\n",
    "        results.append(a)\n",
    "print(results)"
   ]
  },
  {
   "cell_type": "code",
   "execution_count": null,
   "id": "530854e7",
   "metadata": {},
   "outputs": [],
   "source": []
  },
  {
   "cell_type": "code",
   "execution_count": 152,
   "id": "25d433e9",
   "metadata": {},
   "outputs": [
    {
     "name": "stdout",
     "output_type": "stream",
     "text": [
      "[1, 2, 2]\n"
     ]
    }
   ],
   "source": [
    "# Question 10: The following list is given:  list_10 = [1,2,2,3,3,3,4,4,4,4]\n",
    "\n",
    "# Write a program that removes the numbers whose frequency is more than 2\n",
    "# (i.e. there are three of 3s and four 4s, so both 3s and 4s need to be removed)\n",
    "# and print the list to the console.\n",
    "\n",
    "# Expected result: [1, 2, 2]\n",
    "\n",
    "#need results list and will use append\n",
    "\n",
    "list_10 = [1,2,2,3,3,3,4,4,4,4]\n",
    "results=[]\n",
    "for a in list_10:\n",
    "    if list_10.count(a)<=2:\n",
    "        results.append(a)\n",
    "print(results)\n",
    "\n"
   ]
  },
  {
   "cell_type": "code",
   "execution_count": null,
   "id": "a6b67d6c",
   "metadata": {},
   "outputs": [],
   "source": []
  },
  {
   "cell_type": "markdown",
   "id": "1361e313",
   "metadata": {},
   "source": [
    "## Good Luck !"
   ]
  }
 ],
 "metadata": {
  "kernelspec": {
   "display_name": "Python 3",
   "language": "python",
   "name": "python3"
  },
  "language_info": {
   "codemirror_mode": {
    "name": "ipython",
    "version": 3
   },
   "file_extension": ".py",
   "mimetype": "text/x-python",
   "name": "python",
   "nbconvert_exporter": "python",
   "pygments_lexer": "ipython3",
   "version": "3.8.8"
  }
 },
 "nbformat": 4,
 "nbformat_minor": 5
}
