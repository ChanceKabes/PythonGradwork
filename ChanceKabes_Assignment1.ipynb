{
 "cells": [
  {
   "cell_type": "markdown",
   "metadata": {},
   "source": [
    "\n",
    "\n",
    "# ANX 603 :  Python for Data Analytics\n",
    "## Assignment 1  - Due Wednesday 8/24/2022, at 11:59 pm ( 10 points in total)\n",
    "## Instructor : Dr. Ali Dag\n",
    "\n",
    "## Question 1 and 2 are worth 0.5 pts each. Question 3 - 11 are worth 1 pt each. \n",
    "## (2 * 0.5) + (9 * 1) = 10 pts total\n",
    "\n",
    "\n",
    "### Note : Submit .ipynb (this) file to the canvas. Name your .ipynb file as “Yourname_Assignment1.ipynb\" before submitting.\n",
    "\n",
    "While working on the assignment;\n",
    "- Use your judgement\n",
    "- State your assumptions (what do you understand)\n",
    "- Solve the problem\n",
    "\n",
    "### Note  Please note that the output that you should obtain is given below each question !, So take the advantage of it !\n",
    "\n",
    "Good luck!\n"
   ]
  },
  {
   "cell_type": "markdown",
   "metadata": {},
   "source": [
    "\n",
    "## Question 1 (Data Types, Conversions, Operators and String Concatenation)\n",
    "\n",
    "Create a variable and assign 123.0 (float number) to this variable.\n",
    "Create another variable and assign 45 (string) to this second one.\n",
    "\n",
    "Now, by using these two variables and using the appropriate conversions and operations, please print  \"12345\", which should be a string.\n",
    "After printing the result, add \"5\" to the result to obtain \"12350\". \n",
    "\n",
    "Hint : Note that the data types that you are dealing with different. In this question, you need to use float, string, and integer data types. In addition, you will need to convert them to each other as you need.\n",
    "\n",
    "Note : Use only one cell in for your operations.\n",
    "\n",
    "\n",
    "\n"
   ]
  },
  {
   "cell_type": "code",
   "execution_count": 16,
   "metadata": {},
   "outputs": [
    {
     "name": "stdout",
     "output_type": "stream",
     "text": [
      "12350\n"
     ]
    }
   ],
   "source": [
    "f1= 123.0 \n",
    "s1=\"45\"\n",
    "\n",
    "f1=str(f1) #float and a string can not concatenate. I need to convert float into string\n",
    "\n",
    "f1 = f1[:3] #decimal still remains so I need to grab only first 3 numbers and reassign variable\n",
    "\n",
    "f1+s1 # concatenate strings this equals 12345\n",
    "\n",
    "print(str(int(f1+s1)+5)) #convert into integer and add 5 to it - then print as string    "
   ]
  },
  {
   "cell_type": "markdown",
   "metadata": {},
   "source": [
    "\n",
    "## Question 2 (Variable Assignment and Simple Math Operators)\n",
    "\n",
    "* Assume that you are working for a Digital Marketing company as a part time student. Your hourly pay is $15.00. If you work after hours (after 5 pm or weekends), then your hourly rate is doubled.\n",
    "\n",
    "* Assume that you worked 10 regular hours, and 5 after hours.\n",
    "* Please calculate your total pay, by creating two variables for 1) the amount of regular hours, and 2)the amount of after hours.\n",
    "\n",
    "Note: You do not need to assign variables for your hourly pays, as they do not change from week to week.\n",
    "Note: Use only one cell for your operations\n"
   ]
  },
  {
   "cell_type": "code",
   "execution_count": 19,
   "metadata": {},
   "outputs": [
    {
     "name": "stdout",
     "output_type": "stream",
     "text": [
      "300\n"
     ]
    }
   ],
   "source": [
    "\n",
    "RH=10 #regular Hourly wage\n",
    "AH=5  #After Hour wage\n",
    "\n",
    "print((15*RH)+(30*AH)) #total pay is equal to the regular hours work* regular pay (15) and after hours worked*double pay"
   ]
  },
  {
   "cell_type": "markdown",
   "metadata": {},
   "source": [
    "## Question 3 (Variable Assignment and Simple Math Operators)\n",
    "\n",
    "* Assume that you are working for a Digital Marketing company as a part time student. Your hourly pay is $15.00. If you work over 20 hours/week, then your hourly rate is doubled.\n",
    "\n",
    "* Assume that you worked 25 hours in total.\n",
    "* Please calculate your total pay, by creating only two variables (1) for the amount of total hours and 2) for the max limit of regular hours).\n",
    "\n",
    "Note: You do not need to assign variables for your hourly pays, as they do not change from week to week.\n",
    "\n",
    "Note: Use only one cell in for your operations."
   ]
  },
  {
   "cell_type": "code",
   "execution_count": 20,
   "metadata": {},
   "outputs": [
    {
     "name": "stdout",
     "output_type": "stream",
     "text": [
      "450\n"
     ]
    }
   ],
   "source": [
    "TH =25  #total hours for the week\n",
    "MH =20   #max hours \n",
    "\n",
    "print((30*(TH-MH))+(15*(TH-(TH-MH)))) #finds amount of max hours over and total hours"
   ]
  },
  {
   "cell_type": "markdown",
   "metadata": {},
   "source": [
    "## Question 4 (Strings)\n",
    "\n",
    "* By using **one print function (only)**, please print the following statement in the format that it is given (in four consecutive rows, without anything in between).\n",
    " \n",
    " \n",
    "Welcome to Creighton\n",
    "\n",
    "Welcome to \n",
    "\n",
    "Heider\n",
    "\n",
    "Welcome to BIA 479\n",
    "\n",
    "Note: Use only one cell in for your operations."
   ]
  },
  {
   "cell_type": "code",
   "execution_count": 5,
   "metadata": {},
   "outputs": [
    {
     "name": "stdout",
     "output_type": "stream",
     "text": [
      "Welcome to Creighton \n",
      "Welcome to \n",
      "Heider \n",
      "Welcome to BIA 479\n"
     ]
    }
   ],
   "source": [
    "#need to use line break\n",
    "\n",
    "print(\"Welcome to Creighton \\nWelcome to \\nHeider \\nWelcome to BIA 479\")"
   ]
  },
  {
   "cell_type": "markdown",
   "metadata": {},
   "source": [
    "## Question 5 (String Operators and Concatenation)\n",
    "\n",
    "* Create two variables, and assign them the following two strings.\n",
    "\n",
    "1) \"Welcome ALL\", and 2) \"HI EVERYBODY\".\n",
    "\n",
    "\n",
    "* Now, by using these two strings, create a new sentence that prints \"WELCOME everybody\".\n",
    "\n",
    "Hint : You will do string slicing, concatenation and .lower and .upper functions in this question.\n",
    "\n",
    "Note : Use minimum number of cells you can.\n",
    "\n"
   ]
  },
  {
   "cell_type": "code",
   "execution_count": 27,
   "metadata": {},
   "outputs": [
    {
     "name": "stdout",
     "output_type": "stream",
     "text": [
      "WELCOME everybody\n"
     ]
    }
   ],
   "source": [
    "v1= \"Welcome ALL\"  #statement 1 \n",
    "v2= \"HI EVERYBODY\"   #statement 2\n",
    "\n",
    "\n",
    "print(v1[:7].upper()+(v2[2:].lower()))  #slices first string and assigns upper case and slices second string and assigns lower case"
   ]
  },
  {
   "cell_type": "markdown",
   "metadata": {
    "collapsed": true
   },
   "source": [
    "\n",
    "## Question 6 (String Immutability and Operators)\n",
    "\n",
    "* Create a variable, and assign the following string to this variable.\n",
    "\n",
    "\"I wrote two articles\"\n",
    "\n",
    "\n",
    "\n",
    "\n",
    "* Now, replace the word \"wrote\" with \"read\", so the new variable (string) reads as \"I read two articles\" instead of the original one.\n",
    "\n",
    "\n",
    "Hint : You will do two string slicings,and a new variable assignmnent,string concatenation\n",
    "\n",
    "Note : Use minimum number of cells you can.\n",
    "\n",
    "\n"
   ]
  },
  {
   "cell_type": "code",
   "execution_count": 7,
   "metadata": {},
   "outputs": [
    {
     "name": "stdout",
     "output_type": "stream",
     "text": [
      "I read two articles\n"
     ]
    }
   ],
   "source": [
    "x= \"I wrote two articles\"\n",
    "\n",
    "x=x[:2]+\"read\"+x[7:] #slice in 2 concatenate word read and reassign\n",
    "\n",
    "print(x)\n",
    "\n",
    "#easier method to use the replace command x.replace(\"wrote\",\"read\")"
   ]
  },
  {
   "cell_type": "markdown",
   "metadata": {
    "collapsed": true
   },
   "source": [
    "# Question - 7 (Lists)\n",
    "\n",
    "Create the following two lists:<br>\n",
    "\n",
    "**list1** = [1, 2, 3, 6, [2, 3, 4], 'Sooner!']<br>\n",
    "**list2** = [[\"Stringx\", [4,['Go Pokes!',4]]],3]<br>\n",
    "\n",
    "1. After creating these two lists, concatenate them and store in **list3**<br>\n",
    "2. After creating **List3**, please Replace \"Stringx\" with \"Boomer!\" in list **list3**<br>\n",
    "3. And Print **list3**\n",
    "4. Remove 'Go Pokes!' from **list3**, and print **list3** (-Hint:Use del function)\n"
   ]
  },
  {
   "cell_type": "code",
   "execution_count": 7,
   "metadata": {},
   "outputs": [
    {
     "name": "stdout",
     "output_type": "stream",
     "text": [
      "[1, 2, 3, 6, [2, 3, 4], 'Sooner!', ['Boomer!', [4, ['Go Pokes!', 4]]], 3]\n",
      "[1, 2, 3, 6, [2, 3, 4], 'Sooner!', ['Boomer!', [4, [4]]], 3]\n"
     ]
    }
   ],
   "source": [
    "list1 = [1, 2, 3, 6, [2, 3, 4], 'Sooner!']\n",
    "list2 = [[\"Stringx\", [4,['Go Pokes!',4]]],3]\n",
    "list3 = list1 + list2 #concatenated strings\n",
    "\n",
    "\n",
    "\n",
    "list2[0][0]=\"Boomer!\" #replace in list 3\n",
    "print(list3) #print list 3\n",
    "\n",
    "del list3[6][1][1][0] #find go pokes and remove\n",
    "\n",
    "print(list3)"
   ]
  },
  {
   "cell_type": "markdown",
   "metadata": {
    "collapsed": true
   },
   "source": [
    "# Question - 8 (Lists)\n",
    "\n",
    "Consider the below list:<br>\n",
    "_salaries = [50000, 90000, 550000,300000]_\n",
    "1. Find the maximum salary\n",
    "2. Calculate the average salary"
   ]
  },
  {
   "cell_type": "code",
   "execution_count": 9,
   "metadata": {},
   "outputs": [
    {
     "name": "stdout",
     "output_type": "stream",
     "text": [
      "550000\n",
      "247500.0\n"
     ]
    }
   ],
   "source": [
    "salaries = [50000, 90000, 550000,300000]\n",
    "\n",
    "print(max(salaries)) #max salary\n",
    "\n",
    "print(sum(salaries)/len(salaries)) #average by finding sum and dividing by length"
   ]
  },
  {
   "cell_type": "markdown",
   "metadata": {},
   "source": [
    "# Question - 9: Dictionaries\n",
    "\n",
    "Consider these two lists<br></font> \n",
    "\n",
    "**states** = ['OK','OR','FL','CA','NY','MI']\n",
    "\n",
    "**cities** = ['Norman','Portland','Miami', 'San Francisco','Binghamton', 'Lansing']\n",
    "\n",
    "\n",
    "1. From strings in states and cities, create dictionary USA_visit (keys = states, values = cities), and print the dictionary USA_visit\n",
    "2. Print out the keys in USA_visit\n",
    "3. Print out value that belongs to key 'CA'\n",
    "4. Add the key 'NE' with the value 'Omaha' to USA_visit, and print the USA_visit dictionary\n",
    "5. Remove the key 'MI' from USA_visit, and print the USA_visit dictionary\n",
    "6. Update(replace) the \"Binghamton\" with \"NewYork\", and print the USA_visit dictionary"
   ]
  },
  {
   "cell_type": "code",
   "execution_count": 12,
   "metadata": {},
   "outputs": [
    {
     "name": "stdout",
     "output_type": "stream",
     "text": [
      "{'OK': 'Norman', 'OR': 'Portland', 'FL': 'Miami', 'CA': 'San Francisco', 'NY': 'Binghamton', 'MI': 'Lansing'}\n",
      "dict_keys(['OK', 'OR', 'FL', 'CA', 'NY', 'MI'])\n",
      "San Francisco\n",
      "{'OK': 'Norman', 'OR': 'Portland', 'FL': 'Miami', 'CA': 'San Francisco', 'NY': 'Binghamton', 'MI': 'Lansing', 'NE': 'Omaha'}\n",
      "{'OK': 'Norman', 'OR': 'Portland', 'FL': 'Miami', 'CA': 'San Francisco', 'NY': 'Binghamton', 'NE': 'Omaha'}\n",
      "{'OK': 'Norman', 'OR': 'Portland', 'FL': 'Miami', 'CA': 'San Francisco', 'NY': 'NewYork', 'NE': 'Omaha'}\n"
     ]
    }
   ],
   "source": [
    "states = ['OK','OR','FL','CA','NY','MI']\n",
    "\n",
    "cities = ['Norman','Portland','Miami', 'San Francisco','Binghamton', 'Lansing']\n",
    "\n",
    "USA_visit={states[0]:cities[0],states[1]:cities[1],states[2]:cities[2],states[3]:cities[3],states[4]:cities[4],states[5]:cities[5]}\n",
    "print(USA_visit)  #create dicitionary using strings \n",
    "\n",
    "#the expected answer doesn't include printing the full dictionary but the instructions request to print the dictionary in step 1\n",
    "\n",
    "print(USA_visit.keys()) #print keys \n",
    "\n",
    "print(USA_visit[\"CA\"])  #value that belongs to CA\n",
    "\n",
    "USA_visit[\"NE\"]=\"Omaha\" #place new value\n",
    "print(USA_visit) \n",
    "\n",
    "del (USA_visit[\"MI\"]) #remove MI\n",
    "print(USA_visit)\n",
    "\n",
    "USA_visit[\"NY\"]= \"NewYork\" #replace value\n",
    "\n",
    "print(USA_visit)"
   ]
  },
  {
   "cell_type": "markdown",
   "metadata": {},
   "source": [
    "# Question - 10: Tuples\n",
    "\n",
    "1. Initiate the below tuple\n",
    "\n",
    "tp = (1,2,3,6,8,4,9,12,15,20)\n",
    "\n",
    "2. Print the first half of the tuple in one line (with using indexing and slicing concept)\n",
    "3. Print the second half of the tuple in second line (with using indexing and slicing concept)\n",
    "4. Find out number of items that is equal to 1 in tuple **tp** \n",
    "5. Find out the index of 6 in tuple **tp** \n",
    "6. Concatenate the tuple (\"Fire and the Rain\", 3,5) to tuple **tp** , and print **tp**"
   ]
  },
  {
   "cell_type": "code",
   "execution_count": 14,
   "metadata": {},
   "outputs": [
    {
     "name": "stdout",
     "output_type": "stream",
     "text": [
      "(1, 2, 3, 6, 8)\n",
      "(4, 9, 12, 15, 20)\n",
      "1\n",
      "(1, 2, 3, 6, 8, 4, 9, 12, 15, 20, 'Fire and the Rain', 3, 5)\n"
     ]
    }
   ],
   "source": [
    "tp = (1,2,3,6,8,4,9,12,15,20)\n",
    "print(tp[:int(len(tp)/2)]) #first half\n",
    "print(tp[int(len(tp)/2):])  #second half\n",
    "\n",
    "print(tp.count(1))  #equal to 1\n",
    "tp.index(6)   #index equal to 6\n",
    "tp=tp + (\"Fire and the Rain\", 3,5) #concatenate with new values\n",
    "print(tp)"
   ]
  },
  {
   "cell_type": "markdown",
   "metadata": {},
   "source": [
    "# Question - 11: Stock Transition Program \n",
    "\n",
    "\n",
    "Last month, Joe purchased some stock in Acme Software, Inc. Here are the details of the purchase:<br>\n",
    "•\tThe number of shares that Joe purchased was 2000.<br>\n",
    "•\tWhen Joe purchased the stock, he paid $40.00 per share. <br>\n",
    "•\tJoe paid his stockbroker a commission that amounted to 3 % of the amount he paid for the stock. <br>\n",
    "\n",
    "Two weeks later, Joe sold the stock. Here are the details of the sale:<br>\n",
    "•\tThe number of shares that Joe sold was 2000.<br>\n",
    "•\tHe sold the stock for $42.75 per share.<br>\n",
    "•\tHe paid his stockbroker another commission that amounted to 3 percent of the amount he received for the stock.<br><br>\n",
    "\n",
    "\n",
    "\n",
    "Write a program that displays the following information:<br>\n",
    "•\tThe amount of money Joe paid for the stock.<br>\n",
    "•\tThe amount of commission Joe paid his broker when he bought the stock.<br>\n",
    "•\tThe amount for which Joe sold the stock.<br>\n",
    "•\tThe amount of commission Joe paid his broker when he sold the stock.<br>\n",
    "•\tCalculate and Print the amount of money that Joe has made as a profit. "
   ]
  },
  {
   "cell_type": "code",
   "execution_count": 15,
   "metadata": {},
   "outputs": [
    {
     "name": "stdout",
     "output_type": "stream",
     "text": [
      "80000\n",
      "2400.0\n",
      "85500.0\n",
      "2565.0\n",
      "535.0\n"
     ]
    }
   ],
   "source": [
    "ps  = 2000 #purchased Shares\n",
    "pap = 40 #price at purchase\n",
    "co= .03 #commision rate\n",
    "ss= 2000 #shares sold\n",
    "pas= 42.75 #price at sale\n",
    "pa= ps*pap #purchase shares * price at purchase is Purchased Amount\n",
    "sa= ss*pas #shares sold * price at sale is Sold Amount\n",
    "cap=(co*(pa)) #commision at purchase is commision * purchased amount\n",
    "cas=(co*(sa))  #commision at sale is commision * sold amount\n",
    "\n",
    "print(pa) #amount of money to purchase shares\n",
    "print(cap) #amount of commision at purchase\n",
    "print(sa)  #sold amount\n",
    "print(cas) #comission at sale\n",
    "print((sa-cas)-(pa+cap)) #total profit"
   ]
  },
  {
   "cell_type": "markdown",
   "metadata": {},
   "source": [
    "## THE END"
   ]
  }
 ],
 "metadata": {
  "kernelspec": {
   "display_name": "Python 3",
   "language": "python",
   "name": "python3"
  },
  "language_info": {
   "codemirror_mode": {
    "name": "ipython",
    "version": 3
   },
   "file_extension": ".py",
   "mimetype": "text/x-python",
   "name": "python",
   "nbconvert_exporter": "python",
   "pygments_lexer": "ipython3",
   "version": "3.8.8"
  }
 },
 "nbformat": 4,
 "nbformat_minor": 2
}
